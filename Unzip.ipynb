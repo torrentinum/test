{
  "nbformat": 4,
  "nbformat_minor": 0,
  "metadata": {
    "colab": {
      "name": "Unzip.ipynb",
      "provenance": [],
      "collapsed_sections": [],
      "include_colab_link": true
    },
    "kernelspec": {
      "name": "python3",
      "display_name": "Python 3"
    }
  },
  "cells": [
    {
      "cell_type": "markdown",
      "metadata": {
        "id": "view-in-github",
        "colab_type": "text"
      },
      "source": [
        "<a href=\"https://colab.research.google.com/github/torrentinum/test/blob/master/Unzip.ipynb\" target=\"_parent\"><img src=\"https://colab.research.google.com/assets/colab-badge.svg\" alt=\"Open In Colab\"/></a>"
      ]
    },
    {
      "cell_type": "code",
      "metadata": {
        "id": "aG_1xLtDClIL",
        "colab": {
          "base_uri": "https://localhost:8080/"
        },
        "outputId": "e86f3872-4424-4a9b-a126-28471d65d62a"
      },
      "source": [
        "from google.colab import drive\n",
        "drive.mount('/content/drive')"
      ],
      "execution_count": 1,
      "outputs": [
        {
          "output_type": "stream",
          "text": [
            "Mounted at /content/drive\n"
          ],
          "name": "stdout"
        }
      ]
    },
    {
      "cell_type": "code",
      "metadata": {
        "id": "wwAMsAHRCa_R",
        "colab": {
          "base_uri": "https://localhost:8080/"
        },
        "cellView": "form",
        "outputId": "d397da22-a82b-4313-ad79-2a318947619b"
      },
      "source": [
        "#@markdown <h3>⬅️ Click Here to start the extraction</h3>\n",
        "import os\n",
        "format = \"ZIP\" #@param [\"RAR\", \"ZIP\", \"7z\"]\n",
        "source_path = \"/content/drive/MyDrive/Sharer.pw/1500.The Friends (2020) UNRATED 720p HEVC HDRip Hindi S01E01.zip\" #@param {type:\"string\"}\n",
        "destination_folder = \"/content/drive/MyDrive/Sharer.pw\" #@param {type:\"string\"}\n",
        "password = \"\" #@param {type:\"string\"}\n",
        "\n",
        "os.environ[\"sourceC\"] = source_path\n",
        "os.environ[\"destinationC\"] = destination_folder\n",
        "os.environ[\"pasC\"] = password\n",
        "\n",
        "if format == \"RAR\":\n",
        "  !unrar e \"-p$pasC\" \"$sourceC\" \"$destinationC\"\n",
        "elif format == \"ZIP\":\n",
        "  !unzip -P \"$pasC\" \"$sourceC\" -d \"$destinationC\"\n",
        "elif format == \"7z\":\n",
        "  !7z -mmt6 x \"$sourceC\" -o\"$destinationC\" -p\"$pasC\""
      ],
      "execution_count": 6,
      "outputs": [
        {
          "output_type": "stream",
          "text": [
            "Archive:  /content/drive/MyDrive/Sharer.pw/1500.The Friends (2020) UNRATED 720p HEVC HDRip Hindi S01E01.zip\n",
            " extracting: /content/drive/MyDrive/Sharer.pw/TFRNSKMHD (2020) www.SkymoviesHD.vin 720p HEVC UnRated HDRip Hindi S01E01 x265 AAC.mkv  \n"
          ],
          "name": "stdout"
        }
      ]
    }
  ]
}